{
 "cells": [
  {
   "cell_type": "markdown",
   "id": "e65ee365",
   "metadata": {},
   "source": [
    "Data types"
   ]
  },
  {
   "cell_type": "code",
   "execution_count": 6,
   "id": "13f3ea55",
   "metadata": {},
   "outputs": [
    {
     "name": "stdout",
     "output_type": "stream",
     "text": [
      "<class 'str'>\n"
     ]
    }
   ],
   "source": [
    "a = \"Stttrrr\"\n",
    "print(type(a))"
   ]
  },
  {
   "cell_type": "code",
   "execution_count": 7,
   "id": "8d367821",
   "metadata": {},
   "outputs": [
    {
     "name": "stdout",
     "output_type": "stream",
     "text": [
      "<class 'int'>\n"
     ]
    }
   ],
   "source": [
    "a = 123\n",
    "print(type(a))"
   ]
  },
  {
   "cell_type": "code",
   "execution_count": 8,
   "id": "6864ac95",
   "metadata": {},
   "outputs": [
    {
     "name": "stdout",
     "output_type": "stream",
     "text": [
      "<class 'float'>\n"
     ]
    }
   ],
   "source": [
    "a = 123.24\n",
    "print(type(a))"
   ]
  },
  {
   "cell_type": "code",
   "execution_count": 13,
   "id": "5c644621",
   "metadata": {},
   "outputs": [
    {
     "name": "stdout",
     "output_type": "stream",
     "text": [
      "1\n"
     ]
    }
   ],
   "source": [
    "print(6//5)"
   ]
  },
  {
   "cell_type": "code",
   "execution_count": 14,
   "id": "1b5d5625",
   "metadata": {},
   "outputs": [
    {
     "name": "stdout",
     "output_type": "stream",
     "text": [
      "1.2\n"
     ]
    }
   ],
   "source": [
    "print(6/5)"
   ]
  },
  {
   "cell_type": "code",
   "execution_count": 15,
   "id": "7dcea87d",
   "metadata": {},
   "outputs": [
    {
     "name": "stdout",
     "output_type": "stream",
     "text": [
      "7776\n"
     ]
    }
   ],
   "source": [
    "print(6**5)"
   ]
  },
  {
   "cell_type": "markdown",
   "id": "5691d5a4",
   "metadata": {},
   "source": [
    "#PEMDAS - LR(Left to Right )\n",
    "P= Parenthesis\n",
    "E= Exponent\n",
    "M=Multiplication\n",
    "D= Division\n",
    "A= Addition\n",
    "S= Subtraction\n",
    "\n",
    "IF multiplication or division comes in way we go left to right"
   ]
  },
  {
   "cell_type": "code",
   "execution_count": 22,
   "id": "63c578d0",
   "metadata": {},
   "outputs": [
    {
     "name": "stdout",
     "output_type": "stream",
     "text": [
      "3.0\n"
     ]
    }
   ],
   "source": [
    "print(3*3-3/3-5)"
   ]
  },
  {
   "cell_type": "code",
   "execution_count": 25,
   "id": "db1e4483",
   "metadata": {},
   "outputs": [
    {
     "name": "stdout",
     "output_type": "stream",
     "text": [
      "31.231409875074366\n"
     ]
    }
   ],
   "source": [
    "Height = 1.64\n",
    "weight = 84\n",
    "\n",
    "BMI= weight/Height**2\n",
    "\n",
    "print(BMI)"
   ]
  },
  {
   "cell_type": "code",
   "execution_count": 29,
   "id": "cd0d2376",
   "metadata": {},
   "outputs": [
    {
     "name": "stdout",
     "output_type": "stream",
     "text": [
      "31.23\n"
     ]
    }
   ],
   "source": [
    "Height = 1.64\n",
    "weight = 84\n",
    "\n",
    "BMI= weight/Height**2\n",
    "\n",
    "print(round(BMI,2))"
   ]
  },
  {
   "cell_type": "code",
   "execution_count": 34,
   "id": "3c1146e7",
   "metadata": {},
   "outputs": [
    {
     "name": "stdout",
     "output_type": "stream",
     "text": [
      "18\n"
     ]
    }
   ],
   "source": [
    "score = 0\n",
    "\n",
    "score =18\n",
    "print(score)"
   ]
  },
  {
   "cell_type": "code",
   "execution_count": 39,
   "id": "d8a36963",
   "metadata": {},
   "outputs": [
    {
     "name": "stdout",
     "output_type": "stream",
     "text": [
      "score is 18, is anyone is winning True\n"
     ]
    }
   ],
   "source": [
    "Score = 0\n",
    "height =1.0\n",
    "is_winning = True\n",
    "\n",
    "print(f\"score is {score}, is anyone is winning {is_winning}\")"
   ]
  },
  {
   "cell_type": "code",
   "execution_count": 40,
   "id": "00ac50e9",
   "metadata": {},
   "outputs": [
    {
     "name": "stdout",
     "output_type": "stream",
     "text": [
      "Hi this is number 100, hlo this is number 150, hello you are in right place Yes you have done it, this is good boy Prashant\n"
     ]
    }
   ],
   "source": [
    "a = 100\n",
    "b = 150\n",
    "c = \"Yes you have done it\"\n",
    "d = \"Prashant\"\n",
    "\n",
    "print(f\"Hi this is number {a}, hlo this is number {b}, hello you are in right place {c}, this is good boy {d}\")"
   ]
  },
  {
   "cell_type": "markdown",
   "id": "af82e609",
   "metadata": {},
   "source": [
    "Tip Calculator "
   ]
  },
  {
   "cell_type": "code",
   "execution_count": 46,
   "id": "8faaa5ba",
   "metadata": {},
   "outputs": [
    {
     "name": "stdout",
     "output_type": "stream",
     "text": [
      "Welcome Tip Calculator\n",
      "How much tip you want to give 43\n"
     ]
    }
   ],
   "source": [
    "print(\"Welcome Tip Calculator\")\n",
    "Totaewfl_amount = (f\"Your Bill is {input(\"Your bill is \")}\")\n",
    "Totfal_tip = print(f\"How much tip you want to give {input(\"How much tip you want to give\")}\")\n"
   ]
  },
  {
   "cell_type": "code",
   "execution_count": 49,
   "id": "c365b713",
   "metadata": {},
   "outputs": [
    {
     "name": "stdout",
     "output_type": "stream",
     "text": [
      "WELCOME TO THE TIP CALCULATOR\n",
      "Amount per person should pay 18.08\n"
     ]
    }
   ],
   "source": [
    "print(\"WELCOME TO THE TIP CALCULATOR\")\n",
    "\n",
    "Total_bill = float(input(\"what is your total bill\"))\n",
    "tip_percentage = float(input(\"what percentage of tip you want to give 10,15,20\"))\n",
    "num_people = int(input(\"how many people split the bill\"))\n",
    "tip_amount = Total_bill*(tip_percentage/100)\n",
    "total_amount = Total_bill + tip_amount\n",
    "amount_per_person = total_amount/num_people\n",
    "final_amount = round(amount_per_person,2)\n",
    "print(f\"Amount per person should pay {final_amount}\")\n"
   ]
  },
  {
   "cell_type": "code",
   "execution_count": null,
   "id": "a63b3169",
   "metadata": {},
   "outputs": [],
   "source": []
  }
 ],
 "metadata": {
  "kernelspec": {
   "display_name": "base",
   "language": "python",
   "name": "python3"
  },
  "language_info": {
   "codemirror_mode": {
    "name": "ipython",
    "version": 3
   },
   "file_extension": ".py",
   "mimetype": "text/x-python",
   "name": "python",
   "nbconvert_exporter": "python",
   "pygments_lexer": "ipython3",
   "version": "3.12.7"
  }
 },
 "nbformat": 4,
 "nbformat_minor": 5
}
