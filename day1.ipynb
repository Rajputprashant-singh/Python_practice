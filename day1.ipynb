{
 "cells": [
  {
   "cell_type": "code",
   "execution_count": 1,
   "id": "f8466d0a",
   "metadata": {},
   "outputs": [
    {
     "name": "stdout",
     "output_type": "stream",
     "text": [
      "hello world\n"
     ]
    }
   ],
   "source": [
    "print(\"hello world\")"
   ]
  },
  {
   "cell_type": "code",
   "execution_count": 3,
   "id": "76544420",
   "metadata": {},
   "outputs": [
    {
     "name": "stdout",
     "output_type": "stream",
     "text": [
      "hello world\n",
      "2 h3ello world\n"
     ]
    }
   ],
   "source": [
    "print(\"hello world\\n2 h3ello world\")"
   ]
  },
  {
   "cell_type": "markdown",
   "id": "4ef98037",
   "metadata": {},
   "source": [
    "#1 String also can concat like adding + sign to add \n",
    "\n",
    "\\n for new line\n"
   ]
  },
  {
   "cell_type": "code",
   "execution_count": 4,
   "id": "0e360819",
   "metadata": {},
   "outputs": [
    {
     "name": "stdout",
     "output_type": "stream",
     "text": [
      "hello stringss\n"
     ]
    }
   ],
   "source": [
    "print (\"hello\" + \" \" + \"stringss\")"
   ]
  },
  {
   "cell_type": "markdown",
   "id": "23d6b410",
   "metadata": {},
   "source": [
    "### 2 Input function "
   ]
  },
  {
   "cell_type": "code",
   "execution_count": 5,
   "id": "c1c07bc1",
   "metadata": {},
   "outputs": [
    {
     "data": {
      "text/plain": [
       "'Prashant '"
      ]
     },
     "execution_count": 5,
     "metadata": {},
     "output_type": "execute_result"
    }
   ],
   "source": [
    "input(\"whats your name ?\")"
   ]
  },
  {
   "cell_type": "code",
   "execution_count": 7,
   "id": "c0f9adef",
   "metadata": {},
   "outputs": [
    {
     "name": "stdout",
     "output_type": "stream",
     "text": [
      "hello Prashant \n"
     ]
    }
   ],
   "source": [
    "print(\"hello\" + \" \" + input(\"whats your name?\"))"
   ]
  },
  {
   "cell_type": "code",
   "execution_count": 8,
   "id": "eed7facd",
   "metadata": {},
   "outputs": [
    {
     "name": "stdout",
     "output_type": "stream",
     "text": [
      "Hello Prashant !\n"
     ]
    }
   ],
   "source": [
    "print(\"Hello\" + \" \" + input(\"whats your name?\") + \"!\")"
   ]
  },
  {
   "cell_type": "markdown",
   "id": "0af775a4",
   "metadata": {},
   "source": [
    "### 3 Variables "
   ]
  },
  {
   "cell_type": "code",
   "execution_count": 9,
   "id": "d8884fc8",
   "metadata": {},
   "outputs": [
    {
     "name": "stdout",
     "output_type": "stream",
     "text": [
      "Prashant singh \n"
     ]
    }
   ],
   "source": [
    "Name = input(\"whats your name\")\n",
    "print(Name)"
   ]
  },
  {
   "cell_type": "code",
   "execution_count": 11,
   "id": "c03f25a1",
   "metadata": {},
   "outputs": [
    {
     "name": "stdout",
     "output_type": "stream",
     "text": [
      "Hello sie\n"
     ]
    },
    {
     "data": {
      "text/plain": [
       "9"
      ]
     },
     "execution_count": 11,
     "metadata": {},
     "output_type": "execute_result"
    }
   ],
   "source": [
    "Name = input(\"whats your name\")\n",
    "print(Name)\n",
    "len(Name)"
   ]
  },
  {
   "cell_type": "code",
   "execution_count": 12,
   "id": "14dfb36d",
   "metadata": {},
   "outputs": [
    {
     "name": "stdout",
     "output_type": "stream",
     "text": [
      "9\n"
     ]
    }
   ],
   "source": [
    "print(len(Name))"
   ]
  },
  {
   "cell_type": "code",
   "execution_count": 17,
   "id": "6388ecc5",
   "metadata": {},
   "outputs": [
    {
     "name": "stdout",
     "output_type": "stream",
     "text": [
      "12\n"
     ]
    }
   ],
   "source": [
    "Username = \"Indore city \"\n",
    "length =len(Username)\n",
    "print(length)"
   ]
  },
  {
   "cell_type": "code",
   "execution_count": 18,
   "id": "7f015151",
   "metadata": {},
   "outputs": [
    {
     "name": "stdout",
     "output_type": "stream",
     "text": [
      "10\n"
     ]
    }
   ],
   "source": [
    "Username1 = input(\"let me word which your are eager to know length\")\n",
    "length1 = len(Username1)\n",
    "print(length1)"
   ]
  },
  {
   "cell_type": "markdown",
   "id": "4951bdaf",
   "metadata": {},
   "source": [
    "### 4 Question - swap the variables \n",
    "\n",
    "glass1 = \"milk\"\n",
    "glass2 = \"juice\"\n",
    "\n",
    "just swap the variables "
   ]
  },
  {
   "cell_type": "code",
   "execution_count": 22,
   "id": "00251eac",
   "metadata": {},
   "outputs": [
    {
     "name": "stdout",
     "output_type": "stream",
     "text": [
      "glass1 juice Glass2 milk\n"
     ]
    }
   ],
   "source": [
    "glass1 =\"milk\"\n",
    "glass2 =\"juice\"\n",
    "temp = glass1\n",
    "glass1 =glass2\n",
    "glass2 = temp\n",
    "print(\"glass1\" + \" \"+glass1,\"Glass2\" +\" \"+ glass2)"
   ]
  },
  {
   "cell_type": "code",
   "execution_count": 23,
   "id": "22136f79",
   "metadata": {},
   "outputs": [
    {
     "name": "stdout",
     "output_type": "stream",
     "text": [
      "Welcome to the brand name generator\n",
      "your brand name could beBhopal Dog\n"
     ]
    }
   ],
   "source": [
    "print(\"Welcome to the brand name generator\")\n",
    "Street=input(\"what is city name you grew up in\\n\")\n",
    "pet=input(\"what is your pet name\\n\")\n",
    "print(\"your brand name could be\" + Street + \" \" + pet)"
   ]
  },
  {
   "cell_type": "markdown",
   "id": "ec38081f",
   "metadata": {},
   "source": [
    "### 5 DATA Types \n",
    "\n",
    "Accesing character element also known as subscripting "
   ]
  },
  {
   "cell_type": "code",
   "execution_count": 24,
   "id": "98b4b359",
   "metadata": {},
   "outputs": [
    {
     "name": "stdout",
     "output_type": "stream",
     "text": [
      "H\n"
     ]
    }
   ],
   "source": [
    "print(\"Hello\"[0])"
   ]
  },
  {
   "cell_type": "code",
   "execution_count": 25,
   "id": "5bdb694d",
   "metadata": {},
   "outputs": [
    {
     "name": "stdout",
     "output_type": "stream",
     "text": [
      "o\n"
     ]
    }
   ],
   "source": [
    "print(\"Hello\"[-1])"
   ]
  },
  {
   "cell_type": "code",
   "execution_count": 26,
   "id": "14c7d2f3",
   "metadata": {},
   "outputs": [
    {
     "name": "stdout",
     "output_type": "stream",
     "text": [
      "123266911\n"
     ]
    }
   ],
   "source": [
    "print(123243455 + 23456)"
   ]
  },
  {
   "cell_type": "code",
   "execution_count": null,
   "id": "307e30fe",
   "metadata": {},
   "outputs": [],
   "source": []
  }
 ],
 "metadata": {
  "kernelspec": {
   "display_name": "base",
   "language": "python",
   "name": "python3"
  },
  "language_info": {
   "codemirror_mode": {
    "name": "ipython",
    "version": 3
   },
   "file_extension": ".py",
   "mimetype": "text/x-python",
   "name": "python",
   "nbconvert_exporter": "python",
   "pygments_lexer": "ipython3",
   "version": "3.12.7"
  }
 },
 "nbformat": 4,
 "nbformat_minor": 5
}
