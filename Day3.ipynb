{
 "cells": [
  {
   "cell_type": "markdown",
   "id": "a4823c8d",
   "metadata": {},
   "source": [
    "Conditional Statements "
   ]
  },
  {
   "cell_type": "code",
   "execution_count": null,
   "id": "ce8be84d",
   "metadata": {},
   "outputs": [],
   "source": [
    "print(\"\")"
   ]
  },
  {
   "cell_type": "code",
   "execution_count": 2,
   "id": "97a0a7f1",
   "metadata": {},
   "outputs": [
    {
     "name": "stdout",
     "output_type": "stream",
     "text": [
      "Welcome to the rollercoster\n",
      "ok to qualify\n"
     ]
    }
   ],
   "source": [
    "print(\"Welcome to the rollercoster\")\n",
    "height = int(input(\"Put your height in cm\"))\n",
    "if height >150:\n",
    "    print(\"ok to qualify\")\n",
    "else:\n",
    "    print(\"you are not qualified\")"
   ]
  },
  {
   "cell_type": "markdown",
   "id": "83617352",
   "metadata": {},
   "source": [
    "Check wheather number is odd or even"
   ]
  },
  {
   "cell_type": "code",
   "execution_count": 4,
   "id": "dc5a85b3",
   "metadata": {},
   "outputs": [
    {
     "name": "stdout",
     "output_type": "stream",
     "text": [
      "this is odd number\n"
     ]
    }
   ],
   "source": [
    "a = int (input(\"type number \"))\n",
    "b = a%2\n",
    "if b ==0:\n",
    "    print(\"this is even number\")\n",
    "else:\n",
    "    print(\"this is odd number\")"
   ]
  },
  {
   "cell_type": "markdown",
   "id": "b7d5fed3",
   "metadata": {},
   "source": [
    "Nested if/ Else"
   ]
  },
  {
   "cell_type": "code",
   "execution_count": 9,
   "id": "836c1a6b",
   "metadata": {},
   "outputs": [
    {
     "name": "stdout",
     "output_type": "stream",
     "text": [
      "This is horse riding schoole\n",
      "you have to pay $25\n"
     ]
    }
   ],
   "source": [
    "print(\"This is horse riding schoole\")\n",
    "A = int(input(\"Type your age details\"))\n",
    "if A > 18:\n",
    "    if A > 25:\n",
    "        print(\"you have to pay $25\")\n",
    "    else:\n",
    "        print(\"you have to pay $20\")\n",
    "else:\n",
    "    print(\"sorry to hear you that you can't ride the horse due to height will figure out something else for you\")"
   ]
  },
  {
   "cell_type": "code",
   "execution_count": 11,
   "id": "9509aff5",
   "metadata": {},
   "outputs": [
    {
     "name": "stdout",
     "output_type": "stream",
     "text": [
      "overweight\n"
     ]
    }
   ],
   "source": [
    "A = float(input(\"height\"))\n",
    "B = float(input(\"weight\"))\n",
    "C = B/A**2\n",
    "\n",
    "if C < 18.5:\n",
    "    if C >= 18.5 and C <25:\n",
    "        print(\"normalweight\")\n",
    "    else:\n",
    "        print(\"overweight\")\n",
    "else:\n",
    "    print(\"underweight\")\n",
    "    "
   ]
  },
  {
   "cell_type": "code",
   "execution_count": 14,
   "id": "fe378d12",
   "metadata": {},
   "outputs": [
    {
     "name": "stdout",
     "output_type": "stream",
     "text": [
      "overweight\n"
     ]
    }
   ],
   "source": [
    "A = float(input(\"Weight\"))\n",
    "B = float(input(\"Height\"))\n",
    "C = B**2/A\n",
    "if C < 18.5:\n",
    "    print(\"underweight\")\n",
    "elif C>=18.5 and C < 25:\n",
    "    print(\"normalweight\")\n",
    "else:\n",
    "    print(\"overweight\")"
   ]
  },
  {
   "cell_type": "code",
   "execution_count": null,
   "id": "72271a9d",
   "metadata": {},
   "outputs": [
    {
     "name": "stdout",
     "output_type": "stream",
     "text": [
      "Welcome python pizza Deliveries\n",
      "this is final amount24\n"
     ]
    }
   ],
   "source": [
    "print(\"Welcome python pizza Deliveries\")\n",
    "Size = input(\"what size pizza you want? S, M, L\")\n",
    "\n",
    "if Size == (\"S\"):\n",
    "    bill = 15\n",
    "elif Size ==(\"M\"):\n",
    "    bill = 20\n",
    "elif Size ==(\"L\"):\n",
    "    bill = 25\n",
    "else:\n",
    "    print(\"Invalid size Selected\")\n",
    "    bill = 0\n",
    "\n",
    "Pepperoni = input(\"Do you want pepperoni? Y or N\")\n",
    "if Pepperoni ==(\"Y\"):\n",
    "    if Size == (\"S\"):\n",
    "        bill = (bill + 2)\n",
    "    elif Size ==(\"M\") or Size ==(\"L\"):\n",
    "        bill =(bill + 3)\n",
    "\n",
    "Extra_chesse = input(\"Do you want extra cheese? Y or N\")\n",
    "if Extra_chesse == (\"Y\"):\n",
    "    bill = (bill + 1)\n",
    "    \n",
    "print(f\"this is final amount {bill}\")"
   ]
  },
  {
   "cell_type": "code",
   "execution_count": 21,
   "id": "3d725cf2",
   "metadata": {},
   "outputs": [
    {
     "name": "stdout",
     "output_type": "stream",
     "text": [
      "__________\n",
      "        /\\____;;___       | /         /\n",
      "       `. ())oo() .\n",
      "        |\\(%()*^^()^       %| |-%-------|\n",
      "      % \\ | %  ))   |\n",
      "      %  \\|%________|\n",
      "ejm97  %%%%\n"
     ]
    },
    {
     "name": "stderr",
     "output_type": "stream",
     "text": [
      "<>:1: SyntaxWarning: invalid escape sequence '\\_'\n",
      "<>:1: SyntaxWarning: invalid escape sequence '\\_'\n",
      "C:\\Users\\dell\\AppData\\Local\\Temp\\ipykernel_17056\\2304889132.py:1: SyntaxWarning: invalid escape sequence '\\_'\n",
      "  print(\"\"\"__________\n"
     ]
    }
   ],
   "source": [
    "print(\"\"\"__________\n",
    "        /\\____;;___\\\n",
    "       | /         /\n",
    "       `. ())oo() .\n",
    "        |\\(%()*^^()^\\\n",
    "       %| |-%-------|\n",
    "      % \\ | %  ))   |\n",
    "      %  \\|%________|\n",
    "ejm97  %%%%\"\"\")"
   ]
  },
  {
   "cell_type": "code",
   "execution_count": 22,
   "id": "9eee5365",
   "metadata": {},
   "outputs": [
    {
     "name": "stdout",
     "output_type": "stream",
     "text": [
      "Welcome to the treasure island\n",
      "Game over\n"
     ]
    }
   ],
   "source": [
    "print(\"Welcome to the treasure island\")\n",
    "A = input(\"where you want to go? Left or Right\")\n",
    "B = input(\"you want to swim or wait\")\n",
    "C= input(\"Which color you want to choose? Yellow, Blue , Red\")\n",
    "if A == \"Right\":\n",
    "    print(\"Game over\")\n",
    "\n",
    "elif B == \"Swim\":\n",
    "    print(\"Game over\")\n",
    "    \n",
    "elif C == \"Red\" or C == \"Blue\":\n",
    "    print(\"Game Over\")\n",
    "else:\n",
    "    print(\"You Won\")\n",
    "    \n",
    "    \n",
    "    "
   ]
  },
  {
   "cell_type": "code",
   "execution_count": 30,
   "id": "b013ac3c",
   "metadata": {},
   "outputs": [
    {
     "name": "stdout",
     "output_type": "stream",
     "text": [
      "Welcome to the treasure island\n",
      "game is over\n"
     ]
    }
   ],
   "source": [
    "print(\"Welcome to the treasure island\")\n",
    "A = input(\"where you want to go? left or right\").lower()\n",
    "if A == \"left\":\n",
    "    B = input(\"You want to swim or wait\").lower()\n",
    "    if B == \"wait\":\n",
    "        C = input(\"which color you want to choose? yellow or blue or red\").lower()\n",
    "        if C == \"yellow\":\n",
    "            print(\"You Won\")\n",
    "        elif C == \"red\":\n",
    "            print(\"Game over\")\n",
    "        elif C ==\"blue\":\n",
    "            print(\"Game over\")\n",
    "    else:\n",
    "        print(\"Game is over\")\n",
    "else:\n",
    "    print(\"game is over\")"
   ]
  },
  {
   "cell_type": "code",
   "execution_count": null,
   "id": "0271a0c5",
   "metadata": {},
   "outputs": [],
   "source": []
  }
 ],
 "metadata": {
  "kernelspec": {
   "display_name": "base",
   "language": "python",
   "name": "python3"
  },
  "language_info": {
   "codemirror_mode": {
    "name": "ipython",
    "version": 3
   },
   "file_extension": ".py",
   "mimetype": "text/x-python",
   "name": "python",
   "nbconvert_exporter": "python",
   "pygments_lexer": "ipython3",
   "version": "3.12.7"
  }
 },
 "nbformat": 4,
 "nbformat_minor": 5
}
